{
 "cells": [
  {
   "cell_type": "code",
   "execution_count": 236,
   "id": "14f7d575",
   "metadata": {},
   "outputs": [
    {
     "name": "stdout",
     "output_type": "stream",
     "text": [
      "Epoch 1/50\n",
      "123/123 [==============================] - 6s 49ms/step - loss: 0.0419\n",
      "Epoch 2/50\n",
      "123/123 [==============================] - 1s 7ms/step - loss: 0.0091\n",
      "Epoch 3/50\n",
      "123/123 [==============================] - 1s 6ms/step - loss: 0.0032\n",
      "Epoch 4/50\n",
      "123/123 [==============================] - 1s 6ms/step - loss: 0.0021\n",
      "Epoch 5/50\n",
      "123/123 [==============================] - 1s 6ms/step - loss: 0.0020\n",
      "Epoch 6/50\n",
      "123/123 [==============================] - 1s 8ms/step - loss: 0.0022\n",
      "Epoch 7/50\n",
      "123/123 [==============================] - 1s 8ms/step - loss: 0.0022\n",
      "Epoch 8/50\n",
      "123/123 [==============================] - 1s 7ms/step - loss: 0.0023\n",
      "Epoch 9/50\n",
      "123/123 [==============================] - 1s 8ms/step - loss: 0.0020\n",
      "Epoch 10/50\n",
      "123/123 [==============================] - 1s 6ms/step - loss: 0.0021\n",
      "Epoch 11/50\n",
      "123/123 [==============================] - 1s 6ms/step - loss: 0.0020\n",
      "Epoch 12/50\n",
      "123/123 [==============================] - 1s 5ms/step - loss: 0.0021\n",
      "Epoch 13/50\n",
      "123/123 [==============================] - 1s 6ms/step - loss: 0.0022\n",
      "Epoch 14/50\n",
      "123/123 [==============================] - 1s 8ms/step - loss: 0.0021\n",
      "Epoch 15/50\n",
      "123/123 [==============================] - 1s 6ms/step - loss: 0.0019\n",
      "Epoch 16/50\n",
      "123/123 [==============================] - 1s 6ms/step - loss: 0.0021\n",
      "Epoch 17/50\n",
      "123/123 [==============================] - 1s 6ms/step - loss: 0.0021\n",
      "Epoch 18/50\n",
      "123/123 [==============================] - 1s 8ms/step - loss: 0.0021\n",
      "Epoch 19/50\n",
      "123/123 [==============================] - 1s 7ms/step - loss: 0.0019\n",
      "Epoch 20/50\n",
      "123/123 [==============================] - 1s 7ms/step - loss: 0.0020\n",
      "Epoch 21/50\n",
      "123/123 [==============================] - 1s 7ms/step - loss: 0.0019\n",
      "Epoch 22/50\n",
      "123/123 [==============================] - 1s 9ms/step - loss: 0.0020\n",
      "Epoch 23/50\n",
      "123/123 [==============================] - 1s 9ms/step - loss: 0.0020\n",
      "Epoch 24/50\n",
      "123/123 [==============================] - 1s 8ms/step - loss: 0.0021\n",
      "Epoch 25/50\n",
      "123/123 [==============================] - 1s 8ms/step - loss: 0.0020\n",
      "Epoch 26/50\n",
      "123/123 [==============================] - 1s 7ms/step - loss: 0.0019\n",
      "Epoch 27/50\n",
      "123/123 [==============================] - 1s 8ms/step - loss: 0.0020\n",
      "Epoch 28/50\n",
      "123/123 [==============================] - 1s 6ms/step - loss: 0.0019\n",
      "Epoch 29/50\n",
      "123/123 [==============================] - 1s 7ms/step - loss: 0.0020\n",
      "Epoch 30/50\n",
      "123/123 [==============================] - 1s 7ms/step - loss: 0.0019\n",
      "Epoch 31/50\n",
      "123/123 [==============================] - 1s 6ms/step - loss: 0.0019\n",
      "Epoch 32/50\n",
      "123/123 [==============================] - 1s 7ms/step - loss: 0.0019\n",
      "Epoch 33/50\n",
      "123/123 [==============================] - 1s 6ms/step - loss: 0.0018\n",
      "Epoch 34/50\n",
      "123/123 [==============================] - 1s 5ms/step - loss: 0.0018\n",
      "Epoch 35/50\n",
      "123/123 [==============================] - 1s 5ms/step - loss: 0.0019\n",
      "Epoch 36/50\n",
      "123/123 [==============================] - 1s 6ms/step - loss: 0.0017\n",
      "Epoch 37/50\n",
      "123/123 [==============================] - 1s 6ms/step - loss: 0.0019\n",
      "Epoch 38/50\n",
      "123/123 [==============================] - 1s 6ms/step - loss: 0.0017\n",
      "Epoch 39/50\n",
      "123/123 [==============================] - 1s 5ms/step - loss: 0.0018\n",
      "Epoch 40/50\n",
      "123/123 [==============================] - 1s 5ms/step - loss: 0.0017\n",
      "Epoch 41/50\n",
      "123/123 [==============================] - 1s 5ms/step - loss: 0.0017\n",
      "Epoch 42/50\n",
      "123/123 [==============================] - 1s 6ms/step - loss: 0.0017\n",
      "Epoch 43/50\n",
      "123/123 [==============================] - 1s 6ms/step - loss: 0.0017\n",
      "Epoch 44/50\n",
      "123/123 [==============================] - 1s 6ms/step - loss: 0.0017\n",
      "Epoch 45/50\n",
      "123/123 [==============================] - 1s 5ms/step - loss: 0.0016\n",
      "Epoch 46/50\n",
      "123/123 [==============================] - 1s 6ms/step - loss: 0.0016\n",
      "Epoch 47/50\n",
      "123/123 [==============================] - 1s 7ms/step - loss: 0.0016\n",
      "Epoch 48/50\n",
      "123/123 [==============================] - 1s 8ms/step - loss: 0.0016\n",
      "Epoch 49/50\n",
      "123/123 [==============================] - 1s 7ms/step - loss: 0.0016\n",
      "Epoch 50/50\n",
      "123/123 [==============================] - 1s 7ms/step - loss: 0.0016\n"
     ]
    }
   ],
   "source": [
    "#Momentum trading strategy using future price prediction using an LSTM. \n",
    "#Code adapted from ChatGPT\n",
    "\n",
    "import numpy as np\n",
    "import pandas as pd\n",
    "import keras\n",
    "from keras.models import Sequential\n",
    "from keras.layers import Dense, LSTM\n",
    "from sklearn.preprocessing import MinMaxScaler\n",
    "import nsepy\n",
    "import matplotlib.pyplot as plt\n",
    "\n",
    "# Load the data\n",
    "data = nsepy.get_history(symbol='WIPRo', start=pd.to_datetime('2021-01-01'), end=pd.to_datetime('2021-08-21'))\n",
    "closing_prices = data['Close'].values.reshape(-1,1)\n",
    "\n",
    "# Normalize the data\n",
    "scaler = MinMaxScaler(feature_range=(0, 1))\n",
    "closing_prices = scaler.fit_transform(closing_prices)\n",
    "\n",
    "# Split the data into train and test sets\n",
    "train_size = int(len(closing_prices) * 0.8)\n",
    "train, test = closing_prices[0:train_size,:], closing_prices[train_size:len(closing_prices),:]\n",
    "\n",
    "# Reshape the data for LSTM model\n",
    "look_back = 2\n",
    "train_X, train_Y = np.array([train[i:(i+look_back), 0] for i in range(len(train)-look_back)]), np.array([train[i+look_back, 0] for i in range(len(train)-look_back)])\n",
    "test_X, test_Y = np.array([test[i:(i+look_back), 0] for i in range(len(test)-look_back)]), np.array([test[i+look_back, 0] for i in range(len(test)-look_back)])\n",
    "\n",
    "train_X, test_X = np.reshape(train_X, (train_X.shape[0], train_X.shape[1], 1)), np.reshape(test_X, (test_X.shape[0], test_X.shape[1], 1))\n",
    "\n",
    "# Define the LSTM model\n",
    "model = Sequential()\n",
    "model.add(LSTM(50, input_shape=(look_back, 1)))\n",
    "model.add(Dense(1))\n",
    "model.compile(loss='mean_squared_error', optimizer='adam')\n",
    "\n",
    "# Train the LSTM model\n",
    "model.fit(train_X, train_Y, epochs=50, batch_size=1, verbose=1)\n",
    "\n",
    "# Make predictions\n",
    "train_predict, test_predict = scaler.inverse_transform(model.predict(train_X)), scaler.inverse_transform(model.predict(test_X))\n",
    "test_Y=scaler.inverse_transform(test_Y.reshape(-1,1))\n"
   ]
  },
  {
   "cell_type": "code",
   "execution_count": 241,
   "id": "3b15c1f9",
   "metadata": {
    "scrolled": true
   },
   "outputs": [
    {
     "data": {
      "image/png": "[encoded data removed]",
      "text/plain": [
       "<Figure size 864x576 with 1 Axes>"
      ]
     },
     "metadata": {
      "needs_background": "light"
     },
     "output_type": "display_data"
    }
   ],
   "source": [
    "# Initialize portfolio\n",
    "initial_investment=100000000\n",
    "portfolio_value = initial_investment\n",
    "holdings = 0\n",
    "\n",
    "# Initialize lists for portfolio value and profits\n",
    "portfolio_values = [portfolio_value]\n",
    "profits = []\n",
    "\n",
    "# Iterate over each day in the test set\n",
    "for i in range(len(test_predict)-1):\n",
    "\n",
    "    predicted_price, current_price = test_predict[i][0], test_Y[i]\n",
    "\n",
    "\n",
    "\n",
    "    # Calculate the change in price and update the portfolio\n",
    "    price_delta = predicted_price - current_price[0]\n",
    "    if price_delta > 0:\n",
    "        # Buy\n",
    "        num_shares = int(portfolio_value / current_price)\n",
    "        portfolio_value -= num_shares * current_price[0]\n",
    "        holdings += num_shares\n",
    "    elif price_delta < 0:\n",
    "        # Sell\n",
    "        num_shares = int(holdings)\n",
    "        portfolio_value += num_shares * current_price[0]\n",
    "        holdings -= num_shares\n",
    "        \n",
    "    # Update portfolio value and profits\n",
    "    portfolio_values.append(portfolio_value + holdings * current_price[0])\n",
    "    profits.append(portfolio_values[-1] - initial_investment)\n",
    "\n",
    "# Plot portfolio value and profits\n",
    "plt.figure(figsize=(12, 8))\n",
    "plt.plot(portfolio_values)\n",
    "plt.title(\"Portfolio Value over Time\")\n",
    "plt.xlabel(\"Date\")\n",
    "plt.ylabel(\"Value (Rs)\")\n",
    "plt.show()\n",
    "\n"
   ]
  },
  {
   "cell_type": "code",
   "execution_count": 242,
   "id": "a5275c62",
   "metadata": {},
   "outputs": [
    {
     "name": "stdout",
     "output_type": "stream",
     "text": [
      "Final Portfolio Value: Rs 115788578.10000001\n"
     ]
    }
   ],
   "source": [
    "# Print final portfolio value\n",
    "print(\"Final Portfolio Value: Rs\", portfolio_values[-1])"
   ]
  },
  {
   "cell_type": "code",
   "execution_count": 243,
   "id": "caa0e448",
   "metadata": {},
   "outputs": [
    {
     "name": "stdout",
     "output_type": "stream",
     "text": [
      "Total Profit: Rs 15788578.100000009\n"
     ]
    }
   ],
   "source": [
    "print(\"Total Profit: Rs \"+ str(portfolio_values[-1]-initial_investment))"
   ]
  },
  {
   "cell_type": "code",
   "execution_count": 244,
   "id": "08baa4e5",
   "metadata": {},
   "outputs": [
    {
     "data": {
      "text/plain": [
       "[<matplotlib.lines.Line2D at 0x153db5f50>]"
      ]
     },
     "execution_count": 244,
     "metadata": {},
     "output_type": "execute_result"
    },
    {
     "data": {
      "image/png": "[encoded data removed]",
      "text/plain": [
       "<Figure size 432x288 with 1 Axes>"
      ]
     },
     "metadata": {
      "needs_background": "light"
     },
     "output_type": "display_data"
    }
   ],
   "source": [
    "#Original data\n",
    "\n",
    "plt.plot(data['Close'])"
   ]
  }
 ],
 "metadata": {
  "kernelspec": {
   "display_name": "Python 3 (ipykernel)",
   "language": "python",
   "name": "python3"
  },
  "language_info": {
   "codemirror_mode": {
    "name": "ipython",
    "version": 3
   },
   "file_extension": ".py",
   "mimetype": "text/x-python",
   "name": "python",
   "nbconvert_exporter": "python",
   "pygments_lexer": "ipython3",
   "version": "3.7.13"
  }
 },
 "nbformat": 4,
 "nbformat_minor": 5
}
