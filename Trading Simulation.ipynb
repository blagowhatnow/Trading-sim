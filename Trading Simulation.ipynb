{
 "cells": [
  {
   "cell_type": "code",
   "execution_count": 114,
   "id": "f930644a",
   "metadata": {},
   "outputs": [],
   "source": [
    "import numpy as np\n",
    "import pandas as pd\n",
    "import matplotlib.pyplot as plt\n",
    "import yfinance as yf"
   ]
  },
  {
   "cell_type": "code",
   "execution_count": 115,
   "id": "ce52b17d",
   "metadata": {},
   "outputs": [],
   "source": [
    "from sklearn.svm import SVR\n",
    "from sklearn.pipeline import make_pipeline\n",
    "from sklearn.preprocessing import StandardScaler\n",
    "from pandas_datareader import data as pdr"
   ]
  },
  {
   "cell_type": "code",
   "execution_count": 118,
   "id": "da425132",
   "metadata": {
    "scrolled": false
   },
   "outputs": [
    {
     "name": "stdout",
     "output_type": "stream",
     "text": [
      "[*********************100%***********************]  1 of 1 completed\n"
     ]
    },
    {
     "data": {
      "image/png": "[encoded data removed]",
      "text/plain": [
       "<Figure size 432x288 with 1 Axes>"
      ]
     },
     "metadata": {
      "needs_background": "light"
     },
     "output_type": "display_data"
    }
   ],
   "source": [
    "import yfinance as yf\n",
    "\n",
    "# Get the data for the stock \n",
    "data = yf.download('KO','2017-11-01','2018-05-04')\n",
    "\n",
    "# Import the plotting library\n",
    "import matplotlib.pyplot as plt\n",
    "%matplotlib inline\n",
    "\n",
    "# Plot the close price\n",
    "data['Close']\n",
    "data['Close'].plot()\n",
    "plt.show()"
   ]
  },
  {
   "cell_type": "code",
   "execution_count": 119,
   "id": "5c0a55ba",
   "metadata": {},
   "outputs": [
    {
     "data": {
      "text/plain": [
       "(127,)"
      ]
     },
     "execution_count": 119,
     "metadata": {},
     "output_type": "execute_result"
    }
   ],
   "source": [
    "data['Close'].shape"
   ]
  },
  {
   "cell_type": "code",
   "execution_count": 120,
   "id": "f031c8e6",
   "metadata": {},
   "outputs": [],
   "source": [
    "xvals=np.arange(0,data['Close'].shape[0])\n",
    "yvals=data['Close']\n",
    "\n",
    "stocks_init=350\n",
    "stocks=stocks_init\n",
    "cash=500000\n",
    "\n",
    "preds=[]\n",
    "\n",
    "n_points=10\n",
    "for j in np.arange(0,n_points):\n",
    "    preds.append(yvals[j])"
   ]
  },
  {
   "cell_type": "code",
   "execution_count": 121,
   "id": "ce889bd1",
   "metadata": {},
   "outputs": [
    {
     "data": {
      "text/plain": [
       "483014.5004272461"
      ]
     },
     "execution_count": 121,
     "metadata": {},
     "output_type": "execute_result"
    }
   ],
   "source": [
    "cash-(max(data['Close'])*stocks_init)"
   ]
  },
  {
   "cell_type": "code",
   "execution_count": 122,
   "id": "121b1ea7",
   "metadata": {},
   "outputs": [],
   "source": [
    "total_init=(stocks_init*yvals[0])+cash"
   ]
  },
  {
   "cell_type": "code",
   "execution_count": 123,
   "id": "87343b68",
   "metadata": {},
   "outputs": [
    {
     "data": {
      "text/plain": [
       "516092.9998397827"
      ]
     },
     "execution_count": 123,
     "metadata": {},
     "output_type": "execute_result"
    }
   ],
   "source": [
    "total_init"
   ]
  },
  {
   "cell_type": "code",
   "execution_count": 124,
   "id": "7274223b",
   "metadata": {},
   "outputs": [
    {
     "data": {
      "text/plain": [
       "(127,)"
      ]
     },
     "execution_count": 124,
     "metadata": {},
     "output_type": "execute_result"
    }
   ],
   "source": [
    "data['Close'].shape"
   ]
  },
  {
   "cell_type": "code",
   "execution_count": 125,
   "id": "b3796540",
   "metadata": {},
   "outputs": [],
   "source": [
    "import warnings\n",
    "from sklearn.linear_model import LinearRegression\n",
    "\n",
    "\n",
    "warnings.filterwarnings(\"ignore\")\n",
    "\n",
    "\n",
    "for i in np.arange(n_points,np.array(data['Close']).shape[0],1):\n",
    "\n",
    "        \n",
    "    x_pairs=[]\n",
    "    y_pairs=[]\n",
    "    \n",
    "    for j in np.arange(0,n_points):\n",
    "        x_pairs.append(xvals[i-j])\n",
    "        y_pairs.append(yvals[i-j])\n",
    "    \n",
    "    x_pairs=np.array(x_pairs).reshape(-1,1)\n",
    "    y_pairs=np.array(y_pairs).reshape(-1,1)\n",
    "    \n",
    "    if i<np.array(data['Close']).shape[0]-1:\n",
    "        \n",
    "        regression = make_pipeline(StandardScaler(), SVR(C=1.0, epsilon=0.2))\n",
    "        regression.fit(x_pairs, y_pairs)\n",
    "        pred=regression.predict(np.array([xvals[i+1]]).reshape(-1,1))\n",
    "        preds.append(pred)\n",
    "        \n",
    "        \n",
    "        if pred-yvals[i]<0:\n",
    "            if stocks==stocks_init:\n",
    "                pass\n",
    "            else:\n",
    "                stocks=stocks_init\n",
    "                cash = cash-stocks_init*yvals[i]\n",
    "        elif pred-yvals[i]>0:\n",
    "            if stocks==stocks_init:\n",
    "                stocks=0\n",
    "                cash = cash + stocks_init*yvals[i]\n",
    "        else:\n",
    "            pass"
   ]
  },
  {
   "cell_type": "code",
   "execution_count": 126,
   "id": "2f6fa600",
   "metadata": {},
   "outputs": [
    {
     "data": {
      "text/plain": [
       "516092.9998397827"
      ]
     },
     "execution_count": 126,
     "metadata": {},
     "output_type": "execute_result"
    }
   ],
   "source": [
    "total_init"
   ]
  },
  {
   "cell_type": "code",
   "execution_count": 127,
   "id": "341400a4",
   "metadata": {
    "scrolled": true
   },
   "outputs": [
    {
     "data": {
      "text/plain": [
       "-1431.5000534057617"
      ]
     },
     "execution_count": 127,
     "metadata": {},
     "output_type": "execute_result"
    }
   ],
   "source": [
    "(yvals[-1]-yvals[0])*350"
   ]
  },
  {
   "cell_type": "code",
   "execution_count": 128,
   "id": "b4a84971",
   "metadata": {},
   "outputs": [
    {
     "data": {
      "text/plain": [
       "0"
      ]
     },
     "execution_count": 128,
     "metadata": {},
     "output_type": "execute_result"
    }
   ],
   "source": [
    "stocks"
   ]
  },
  {
   "cell_type": "code",
   "execution_count": 129,
   "id": "20ee5d96",
   "metadata": {},
   "outputs": [],
   "source": [
    "total_end=(stocks*yvals[-1])+cash"
   ]
  },
  {
   "cell_type": "code",
   "execution_count": 130,
   "id": "c096ff8e",
   "metadata": {},
   "outputs": [
    {
     "data": {
      "text/plain": [
       "69.99626159667969"
      ]
     },
     "execution_count": 130,
     "metadata": {},
     "output_type": "execute_result"
    }
   ],
   "source": [
    "(total_end-total_init)"
   ]
  }
 ],
 "metadata": {
  "kernelspec": {
   "display_name": "Python 3 (ipykernel)",
   "language": "python",
   "name": "python3"
  },
  "language_info": {
   "codemirror_mode": {
    "name": "ipython",
    "version": 3
   },
   "file_extension": ".py",
   "mimetype": "text/x-python",
   "name": "python",
   "nbconvert_exporter": "python",
   "pygments_lexer": "ipython3",
   "version": "3.9.12"
  }
 },
 "nbformat": 4,
 "nbformat_minor": 5
}
