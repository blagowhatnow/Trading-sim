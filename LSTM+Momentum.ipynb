{
  "nbformat": 4,
  "nbformat_minor": 0,
  "metadata": {
    "colab": {
      "provenance": []
    },
    "kernelspec": {
      "name": "python3",
      "display_name": "Python 3"
    },
    "language_info": {
      "name": "python"
    },
    "accelerator": "GPU",
    "gpuClass": "standard"
  },
  "cells": [
    {
      "cell_type": "code",
      "execution_count": 1,
      "metadata": {
        "colab": {
          "base_uri": "https://localhost:8080/"
        },
        "id": "1OWSCNwIHYiH",
        "outputId": "5cbc8363-5efe-41cd-93d2-8ff098fd9340"
      },
      "outputs": [
        {
          "output_type": "stream",
          "name": "stdout",
          "text": [
            "Looking in indexes: https://pypi.org/simple, https://us-python.pkg.dev/colab-wheels/public/simple/\n",
            "Collecting nsepy\n",
            "  Downloading nsepy-0.8.tar.gz (33 kB)\n",
            "  Preparing metadata (setup.py) ... \u001b[?25l\u001b[?25hdone\n",
            "Requirement already satisfied: beautifulsoup4 in /usr/local/lib/python3.8/dist-packages (from nsepy) (4.6.3)\n",
            "Requirement already satisfied: requests in /usr/local/lib/python3.8/dist-packages (from nsepy) (2.25.1)\n",
            "Requirement already satisfied: numpy in /usr/local/lib/python3.8/dist-packages (from nsepy) (1.22.4)\n",
            "Requirement already satisfied: pandas in /usr/local/lib/python3.8/dist-packages (from nsepy) (1.3.5)\n",
            "Requirement already satisfied: six in /usr/local/lib/python3.8/dist-packages (from nsepy) (1.15.0)\n",
            "Requirement already satisfied: click in /usr/local/lib/python3.8/dist-packages (from nsepy) (7.1.2)\n",
            "Requirement already satisfied: lxml in /usr/local/lib/python3.8/dist-packages (from nsepy) (4.9.2)\n",
            "Requirement already satisfied: python-dateutil>=2.7.3 in /usr/local/lib/python3.8/dist-packages (from pandas->nsepy) (2.8.2)\n",
            "Requirement already satisfied: pytz>=2017.3 in /usr/local/lib/python3.8/dist-packages (from pandas->nsepy) (2022.7.1)\n",
            "Requirement already satisfied: certifi>=2017.4.17 in /usr/local/lib/python3.8/dist-packages (from requests->nsepy) (2022.12.7)\n",
            "Requirement already satisfied: idna<3,>=2.5 in /usr/local/lib/python3.8/dist-packages (from requests->nsepy) (2.10)\n",
            "Requirement already satisfied: urllib3<1.27,>=1.21.1 in /usr/local/lib/python3.8/dist-packages (from requests->nsepy) (1.24.3)\n",
            "Requirement already satisfied: chardet<5,>=3.0.2 in /usr/local/lib/python3.8/dist-packages (from requests->nsepy) (4.0.0)\n",
            "Building wheels for collected packages: nsepy\n",
            "  Building wheel for nsepy (setup.py) ... \u001b[?25l\u001b[?25hdone\n",
            "  Created wheel for nsepy: filename=nsepy-0.8-py3-none-any.whl size=36085 sha256=0659eed322b1e94066d138d35490871a662a600cedb05dd946f501ee967f53e3\n",
            "  Stored in directory: /root/.cache/pip/wheels/b9/2c/cb/d74199e422a1dbc20297d10cfff9c54d03e0b5c6694d49ccdd\n",
            "Successfully built nsepy\n",
            "Installing collected packages: nsepy\n",
            "Successfully installed nsepy-0.8\n"
          ]
        }
      ],
      "source": [
        "!pip install nsepy"
      ]
    },
    {
      "cell_type": "code",
      "source": [
        "import numpy as np\n",
        "import pandas as pd\n",
        "import keras\n",
        "from keras.models import Sequential\n",
        "from keras.layers import Dense, LSTM\n",
        "from sklearn.preprocessing import MinMaxScaler\n",
        "import nsepy\n",
        "import matplotlib.pyplot as plt\n",
        "\n",
        "# Load the data\n",
        "data = nsepy.get_history(symbol='RELIANCE', start=pd.to_datetime('2021-01-01'), end=pd.to_datetime('2021-12-21'))\n",
        "closing_prices = data['Close'].values.reshape(-1,1)\n",
        "\n",
        "# Normalize the data\n",
        "scaler = MinMaxScaler(feature_range=(0, 1))\n",
        "closing_prices = scaler.fit_transform(closing_prices)\n",
        "\n",
        "# Split the data into train and test sets\n",
        "train_size = int(len(closing_prices) * 0.8)\n",
        "train, test = closing_prices[0:train_size,:], closing_prices[train_size:len(closing_prices),:]\n",
        "\n",
        "# Reshape the data for LSTM model\n",
        "look_back = 2\n",
        "train_X, train_Y = np.array([train[i:(i+look_back), 0] for i in range(len(train)-look_back)]), np.array([train[i+look_back, 0] for i in range(len(train)-look_back)])\n",
        "test_X, test_Y = np.array([test[i:(i+look_back), 0] for i in range(len(test)-look_back)]), np.array([test[i+look_back, 0] for i in range(len(test)-look_back)])\n",
        "\n",
        "train_X, test_X = np.reshape(train_X, (train_X.shape[0], train_X.shape[1], 1)), np.reshape(test_X, (test_X.shape[0], test_X.shape[1], 1))\n",
        "\n",
        "# Define the LSTM model\n",
        "model = Sequential()\n",
        "model.add(LSTM(50, input_shape=(look_back, 1)))\n",
        "model.add(Dense(1))\n",
        "model.compile(loss='mean_squared_error', optimizer='adam')\n",
        "\n",
        "# Train the LSTM model\n",
        "model.fit(train_X, train_Y, epochs=50, batch_size=1, verbose=1)\n",
        "\n",
        "# Make predictions\n",
        "train_predict, test_predict = scaler.inverse_transform(model.predict(train_X)), scaler.inverse_transform(model.predict(test_X))\n",
        "test_Y=scaler.inverse_transform(test_Y.reshape(-1,1))"
      ],
      "metadata": {
        "colab": {
          "base_uri": "https://localhost:8080/"
        },
        "id": "klI5mpkaHcLV",
        "outputId": "1728cfe1-fb4f-4539-8e57-17016a814216"
      },
      "execution_count": 21,
      "outputs": [
        {
          "output_type": "stream",
          "name": "stdout",
          "text": [
            "Epoch 1/50\n",
            "190/190 [==============================] - 2s 3ms/step - loss: 0.0276\n",
            "Epoch 2/50\n",
            "190/190 [==============================] - 1s 3ms/step - loss: 0.0043\n",
            "Epoch 3/50\n",
            "190/190 [==============================] - 1s 5ms/step - loss: 0.0025\n",
            "Epoch 4/50\n",
            "190/190 [==============================] - 1s 5ms/step - loss: 0.0025\n",
            "Epoch 5/50\n",
            "190/190 [==============================] - 1s 5ms/step - loss: 0.0023\n",
            "Epoch 6/50\n",
            "190/190 [==============================] - 1s 5ms/step - loss: 0.0025\n",
            "Epoch 7/50\n",
            "190/190 [==============================] - 1s 4ms/step - loss: 0.0023\n",
            "Epoch 8/50\n",
            "190/190 [==============================] - 1s 3ms/step - loss: 0.0025\n",
            "Epoch 9/50\n",
            "190/190 [==============================] - 1s 3ms/step - loss: 0.0024\n",
            "Epoch 10/50\n",
            "190/190 [==============================] - 1s 3ms/step - loss: 0.0023\n",
            "Epoch 11/50\n",
            "190/190 [==============================] - 1s 3ms/step - loss: 0.0024\n",
            "Epoch 12/50\n",
            "190/190 [==============================] - 1s 3ms/step - loss: 0.0024\n",
            "Epoch 13/50\n",
            "190/190 [==============================] - 1s 3ms/step - loss: 0.0023\n",
            "Epoch 14/50\n",
            "190/190 [==============================] - 1s 3ms/step - loss: 0.0022\n",
            "Epoch 15/50\n",
            "190/190 [==============================] - 1s 3ms/step - loss: 0.0020\n",
            "Epoch 16/50\n",
            "190/190 [==============================] - 1s 3ms/step - loss: 0.0023\n",
            "Epoch 17/50\n",
            "190/190 [==============================] - 1s 3ms/step - loss: 0.0021\n",
            "Epoch 18/50\n",
            "190/190 [==============================] - 1s 3ms/step - loss: 0.0023\n",
            "Epoch 19/50\n",
            "190/190 [==============================] - 1s 3ms/step - loss: 0.0022\n",
            "Epoch 20/50\n",
            "190/190 [==============================] - 1s 3ms/step - loss: 0.0022\n",
            "Epoch 21/50\n",
            "190/190 [==============================] - 1s 3ms/step - loss: 0.0020\n",
            "Epoch 22/50\n",
            "190/190 [==============================] - 1s 3ms/step - loss: 0.0020\n",
            "Epoch 23/50\n",
            "190/190 [==============================] - 1s 4ms/step - loss: 0.0020\n",
            "Epoch 24/50\n",
            "190/190 [==============================] - 1s 4ms/step - loss: 0.0021\n",
            "Epoch 25/50\n",
            "190/190 [==============================] - 1s 5ms/step - loss: 0.0019\n",
            "Epoch 26/50\n",
            "190/190 [==============================] - 1s 3ms/step - loss: 0.0020\n",
            "Epoch 27/50\n",
            "190/190 [==============================] - 1s 3ms/step - loss: 0.0019\n",
            "Epoch 28/50\n",
            "190/190 [==============================] - 1s 3ms/step - loss: 0.0018\n",
            "Epoch 29/50\n",
            "190/190 [==============================] - 1s 3ms/step - loss: 0.0018\n",
            "Epoch 30/50\n",
            "190/190 [==============================] - 1s 3ms/step - loss: 0.0018\n",
            "Epoch 31/50\n",
            "190/190 [==============================] - 1s 3ms/step - loss: 0.0018\n",
            "Epoch 32/50\n",
            "190/190 [==============================] - 1s 3ms/step - loss: 0.0019\n",
            "Epoch 33/50\n",
            "190/190 [==============================] - 1s 3ms/step - loss: 0.0017\n",
            "Epoch 34/50\n",
            "190/190 [==============================] - 1s 3ms/step - loss: 0.0017\n",
            "Epoch 35/50\n",
            "190/190 [==============================] - 1s 3ms/step - loss: 0.0018\n",
            "Epoch 36/50\n",
            "190/190 [==============================] - 1s 3ms/step - loss: 0.0019\n",
            "Epoch 37/50\n",
            "190/190 [==============================] - 1s 3ms/step - loss: 0.0017\n",
            "Epoch 38/50\n",
            "190/190 [==============================] - 1s 3ms/step - loss: 0.0016\n",
            "Epoch 39/50\n",
            "190/190 [==============================] - 1s 3ms/step - loss: 0.0018\n",
            "Epoch 40/50\n",
            "190/190 [==============================] - 1s 3ms/step - loss: 0.0016\n",
            "Epoch 41/50\n",
            "190/190 [==============================] - 1s 3ms/step - loss: 0.0017\n",
            "Epoch 42/50\n",
            "190/190 [==============================] - 1s 4ms/step - loss: 0.0018\n",
            "Epoch 43/50\n",
            "190/190 [==============================] - 1s 5ms/step - loss: 0.0016\n",
            "Epoch 44/50\n",
            "190/190 [==============================] - 1s 4ms/step - loss: 0.0016\n",
            "Epoch 45/50\n",
            "190/190 [==============================] - 1s 3ms/step - loss: 0.0016\n",
            "Epoch 46/50\n",
            "190/190 [==============================] - 1s 3ms/step - loss: 0.0017\n",
            "Epoch 47/50\n",
            "190/190 [==============================] - 1s 3ms/step - loss: 0.0018\n",
            "Epoch 48/50\n",
            "190/190 [==============================] - 1s 3ms/step - loss: 0.0016\n",
            "Epoch 49/50\n",
            "190/190 [==============================] - 1s 3ms/step - loss: 0.0017\n",
            "Epoch 50/50\n",
            "190/190 [==============================] - 1s 3ms/step - loss: 0.0016\n",
            "6/6 [==============================] - 0s 3ms/step\n",
            "2/2 [==============================] - 0s 6ms/step\n"
          ]
        }
      ]
    },
    {
      "cell_type": "code",
      "source": [
        "# Initialize portfolio\n",
        "initial_investment=100000000\n",
        "portfolio_value = initial_investment\n",
        "holdings = 10000\n",
        "numshares=holdings\n",
        "# Initialize lists for portfolio value and profits\n",
        "portfolio_values = [portfolio_value]\n",
        "profits = []\n",
        "\n",
        "# Iterate over each day in the test set\n",
        "for i in range(len(test_predict)-1):\n",
        "\n",
        "    predicted_price, current_price = test_predict[i][0], test_Y[i]\n",
        "\n",
        "\n",
        "\n",
        "    # Calculate the change in price and update the portfolio\n",
        "    price_delta = predicted_price - current_price[0]\n",
        "    if price_delta > 0:\n",
        "        # Buy\n",
        "        if holdings==0:\n",
        "\n",
        "           \n",
        "           portfolio_value -= numshares* current_price[0]\n",
        "           holdings = numshares\n",
        "\n",
        "        else: \n",
        "\n",
        "          pass             \n",
        "\n",
        "\n",
        "    elif price_delta < 0:\n",
        "        # Sell\n",
        "       if holdings>0:\n",
        "          \n",
        "        \n",
        "           portfolio_value += numshares * current_price[0]\n",
        "           holdings-=numshares\n",
        "           \n",
        "\n",
        "       else:\n",
        "\n",
        "             pass\n",
        "        \n",
        "    # Update portfolio value and profits\n",
        "    portfolio_values.append(portfolio_value + holdings * current_price[0])\n",
        "    profits.append(portfolio_values[-1] - initial_investment)\n",
        "\n",
        "# Plot portfolio value and profits\n",
        "plt.figure(figsize=(12, 8))\n",
        "plt.plot(portfolio_values)\n",
        "plt.title(\"Portfolio Value over Time\")\n",
        "plt.xlabel(\"Date\")\n",
        "plt.ylabel(\"Value (Rs)\")\n",
        "plt.show()"
      ],
      "metadata": {
        "colab": {
          "base_uri": "https://localhost:8080/",
          "height": 513
        },
        "id": "HuXArIWTIuz5",
        "outputId": "df4fc686-d1ba-43ef-f551-9d526adcb61a"
      },
      "execution_count": 23,
      "outputs": [
        {
          "output_type": "display_data",
          "data": {
            "text/plain": [
              "<Figure size 864x576 with 1 Axes>"
            ],
            "image/png": "[encoded data removed]"
          },
          "metadata": {
            "needs_background": "light"
          }
        }
      ]
    },
    {
      "cell_type": "code",
      "source": [
        "print(\"Final Portfolio Value: Rs\", portfolio_values[-1])"
      ],
      "metadata": {
        "colab": {
          "base_uri": "https://localhost:8080/"
        },
        "id": "rixaKrIXHktj",
        "outputId": "75b63528-f60d-4a79-cfce-2ac0292230e4"
      },
      "execution_count": 24,
      "outputs": [
        {
          "output_type": "stream",
          "name": "stdout",
          "text": [
            "Final Portfolio Value: Rs 126188000.0\n"
          ]
        }
      ]
    },
    {
      "cell_type": "markdown",
      "source": [],
      "metadata": {
        "id": "KS7VYMiqQhHB"
      }
    },
    {
      "cell_type": "code",
      "source": [
        "plt.plot(data['Close'])"
      ],
      "metadata": {
        "colab": {
          "base_uri": "https://localhost:8080/",
          "height": 282
        },
        "id": "gOUpxmcXPw03",
        "outputId": "c454d1cc-df96-447b-f335-191dededd5b9"
      },
      "execution_count": 25,
      "outputs": [
        {
          "output_type": "execute_result",
          "data": {
            "text/plain": [
              "[<matplotlib.lines.Line2D at 0x7f9390b24fd0>]"
            ]
          },
          "metadata": {},
          "execution_count": 25
        },
        {
          "output_type": "display_data",
          "data": {
            "text/plain": [
              "<Figure size 432x288 with 1 Axes>"
            ],
            "image/png": "[encoded data removed]"
          },
          "metadata": {
            "needs_background": "light"
          }
        }
      ]
    }
  ]
}